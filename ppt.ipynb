{
 "cells": [
  {
   "cell_type": "markdown",
   "id": "9b1bfd18",
   "metadata": {},
   "source": [
    "# DATA STRUCTURES AND ALGORITHMS & OBJECT ORIENTED PROGRAMMING\n",
    "\n",
    "## Hospital Management System\n",
    "\n"
   ]
  },
  {
   "cell_type": "markdown",
   "id": "841959c3",
   "metadata": {},
   "source": [
    "# Group 13 "
   ]
  },
  {
   "cell_type": "markdown",
   "id": "01b0a9e3",
   "metadata": {},
   "source": [
    "# Team Members \n",
    "- Adhwaidh K       \t\t        -            \tCB.SC.U4AIE24003\n",
    "- Adith S               \t\t-            \tCB.SC.U4AIE24004\n",
    "- Chaitanya Varma     \t     \t-            \tCB.SC.U4AIE24017\n"
   ]
  },
  {
   "cell_type": "markdown",
   "id": "6e4f4c75",
   "metadata": {},
   "source": [
    "# Introduction\n",
    "\n",
    "- Java-based GUI for Managing Hospital Emergency Queues.\n",
    "- Uses **PriorityQueue** to prioritize patients by severity.\n",
    "- Implements **OOP principles** like **Encapsulation** and **Polymorphism**.\n",
    "- Ensures efficient patient tracking and data persistence using **file handling**.\n",
    "\n"
   ]
  },
  {
   "cell_type": "markdown",
   "id": "9460c02b",
   "metadata": {},
   "source": [
    "# Data Structures and Algorithms Used\n",
    "\n",
    "### 1. Data Structures:\n",
    "- Priority Queue: Used for ordering patients based on severity and arrival time.\n",
    "- HashSet: Used to store patient names and prevent duplicates.\n",
    "- ArrayList: Used to store attended patients' data.\n",
    "###  2. Algorithms:\n",
    "- Priority Scheduling Algorithm: Ensures patients with higher severity are attended first.\n",
    "- Sorting Algorithm: Patients are sorted by severity and arrival time when added.\n",
    "- File Handling Algorithm: Reads and writes patient data to a file."
   ]
  },
  {
   "cell_type": "markdown",
   "id": "1124b5ae",
   "metadata": {},
   "source": [
    "# OOPS Concepts Used\n",
    "### 1. Encapsulation\n",
    "- The Patient class encapsulates patient details (name, severity, arrivalTime, status).\n",
    "- Getters and setters ensure controlled access.\n",
    "### 2. Inheritance\n",
    "- Though not explicitly used, the structure allows future extensions such as CriticalPatient inheriting from Patient.\n",
    "### 3. Polymorphism\n",
    "- The toString() method in Patient is overridden to customize the display format.\n",
    "### 4. Abstraction\n",
    "- The internal details of patient management are abstracted away from the user interface.\n",
    "\n",
    "\n"
   ]
  },
  {
   "cell_type": "markdown",
   "id": "92e3aaab",
   "metadata": {},
   "source": [
    "# GUI Interface\n",
    "- The Graphical User Interface (GUI) is designed using Java Swing with:\n",
    "- JFrame – Main window.\n",
    "- JTextArea – Displays patient queue.\n",
    "- JTextField – Takes user input for patient name and severity.\n",
    "- JButton – Handles actions like adding, attending, saving, and loading patients.\n",
    "- JScrollPane – Enables scrolling in the display area.\n"
   ]
  },
  {
   "cell_type": "markdown",
   "id": "3d7de0d3",
   "metadata": {},
   "source": [
    "# Classes and Methods\n",
    "### 1. Patient Class (Encapsulates Patient Information)\n",
    "##### Methods:\n",
    "- getName(), getSeverity(), getArrivalTime(), getStatus()\n",
    "- setStatus(String status)\n",
    "- getWaitingTime()\n",
    "- toString()\n",
    "### 2. HospitalQueueManagementGUI Class (Manages GUI and Queue Operations)\n",
    "##### Attributes:\n",
    "- PriorityQueue`<Patient>` patientQueue\n",
    "- Set`<String>` patientNames\n",
    "- Set`<String>` attendedPatients\n",
    "- JFrame frame\n",
    "- JTextArea displayArea\n",
    "- File queueFile, attendedFile\n",
    "\n",
    "\n",
    "##### Methods:\n",
    "- initializeGUI(): Sets up the graphical interface.\n",
    "- isValidName(String name): Validates patient names.\n",
    "- isValidSeverity(String severityText): Checks if severity input is valid.\n",
    "- showError(String message), showMessage(String message): Displays alerts.\n",
    "- displayQueue(): Updates the patient list on the GUI.\n",
    "- savePatientQueueToFile(), loadPatientQueueFromFile(): Handles file operations.\n",
    "- saveAttendedPatientsToFile(), loadAttendedPatientsFromFile(): Stores attended patients.\n",
    "\n",
    "### 3. Main Method\n",
    "- Calls SwingUtilities.invokeLater(HospitalQueueManagementGUI::new) to launch the GUI.\n",
    "\n",
    "\n"
   ]
  },
  {
   "cell_type": "markdown",
   "id": "81293a4f",
   "metadata": {},
   "source": [
    "# Time and Space Complexity Analysis\n",
    "\n",
    "| **Operation**    | **Time Complexity** | **Space Complexity** |\n",
    "|------------------|---------------------|----------------------|\n",
    "| Add Patient      | O(logn)             | O(n)                 |\n",
    "| Serve Patient    | O(logn)                | O(n)                 |\n",
    "| Display Queue    | O(n)                | O(n)                 |\n",
    "| Save Data        | O(n)                | O(n)                 |\n",
    "| Load Data        | O(nlogn)                | O(n)                 |\n"
   ]
  },
  {
   "cell_type": "code",
   "execution_count": null,
   "id": "e46e4d1d",
   "metadata": {},
   "outputs": [],
   "source": []
  }
 ],
 "metadata": {
  "kernelspec": {
   "display_name": "Python 3 (ipykernel)",
   "language": "python",
   "name": "python3"
  },
  "language_info": {
   "codemirror_mode": {
    "name": "ipython",
    "version": 3
   },
   "file_extension": ".py",
   "mimetype": "text/x-python",
   "name": "python",
   "nbconvert_exporter": "python",
   "pygments_lexer": "ipython3",
   "version": "3.11.4"
  }
 },
 "nbformat": 4,
 "nbformat_minor": 5
}
